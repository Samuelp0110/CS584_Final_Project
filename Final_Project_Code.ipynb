{
 "cells": [
  {
   "cell_type": "markdown",
   "id": "138315f9-623d-4f36-8738-ea4113ce0e7b",
   "metadata": {},
   "source": [
    "# CS 584 Final Project \n",
    "# DETECTING DISCUSSION TOPICS AND SENTIMENT IN REDDIT THREADS <br>\n",
    "\n",
    "\n",
    "#### Name: Uros Nikolic and Sam Preston\n",
    "#### Stevens ID: 20017063, 10463953"
   ]
  },
  {
   "cell_type": "code",
   "execution_count": 3,
   "id": "5fb530bc-ab7d-4acf-a888-ba1d214d4bfd",
   "metadata": {},
   "outputs": [],
   "source": [
    "# Library imports\n",
    "\n",
    "%matplotlib inline\n",
    "from matplotlib import pyplot as plt\n",
    "import numpy as np\n",
    "import pandas as pa\n",
    "import torch\n",
    "import torch.nn as nn \n",
    "import sys\n",
    "import os\n",
    "import random\n",
    "import evaluate\n",
    "from textblob import TextBlob\n",
    "from torchinfo import summary\n",
    "from typing import List, Tuple, Union, Dict\n",
    "from datasets import load_dataset\n",
    "from tokenizers import Tokenizer\n",
    "from sklearn.feature_extraction.text import CountVectorizer\n",
    "from sklearn.decomposition import LatentDirichletAllocation\n",
    "from sklearn.feature_extraction.text import TfidfVectorizer\n",
    "from sklearn.model_selection import train_test_split\n",
    "from sklearn.linear_model import LogisticRegression\n",
    "from sklearn.naive_bayes import MultinomialNB\n",
    "from sklearn.svm import LinearSVC\n",
    "from sklearn.ensemble import RandomForestClassifier\n",
    "from sklearn.neural_network import MLPClassifier\n",
    "from sklearn.metrics import classification_report, accuracy_score, f1_score, precision_score, recall_score"
   ]
  },
  {
   "cell_type": "code",
   "execution_count": 4,
   "id": "e1c7ff3c-8975-4762-904c-8626207cd066",
   "metadata": {},
   "outputs": [],
   "source": [
    "def print_line(*args):\n",
    "    \"\"\" Inline print and go to the begining of line\n",
    "    \"\"\"\n",
    "    args1 = [str(arg) for arg in args]\n",
    "    str_ = ' '.join(args1)\n",
    "    print('\\r' + str_, end='')"
   ]
  },
  {
   "cell_type": "code",
   "execution_count": 5,
   "id": "da081479-a6e2-4475-ba4b-ca09c0343f7e",
   "metadata": {},
   "outputs": [],
   "source": [
    "# Important pip commands for installing some of the neccesasry libraries. \n",
    "\n",
    "#!pip install torch\n",
    "#!pip uninstall torch torchvision torchaudio\n",
    "\n",
    "#!pip install -U datasets\n",
    "\n",
    "#!pip install tokenizers\n",
    "\n",
    "#!pip install torchinfo\n",
    "\n",
    "#!pip install evaluate\n",
    "#!pip install sacrebleu\n",
    "\n",
    "#!pip install textblob\n",
    "#python -m textblob.download_corpora\n"
   ]
  },
  {
   "cell_type": "code",
   "execution_count": 6,
   "id": "4b806ed1-331c-4276-aaf5-10a2b59f19d5",
   "metadata": {},
   "outputs": [
    {
     "name": "stdout",
     "output_type": "stream",
     "text": [
      "True\n",
      "NVIDIA GeForce RTX 4070 Laptop GPU\n"
     ]
    }
   ],
   "source": [
    "# Testing the Cuda cores on personal machine\n",
    "print(torch.cuda.is_available())           \n",
    "print(torch.cuda.get_device_name(0))"
   ]
  },
  {
   "cell_type": "code",
   "execution_count": 7,
   "id": "5a09c6f5-5c3c-4a16-9e21-5a7aa8b6112b",
   "metadata": {},
   "outputs": [],
   "source": [
    "# Data extratcion\n",
    "\n",
    "controversialPosts = pa.read_csv('data/controversial_posts.csv')\n",
    "controversialPostComments = pa.read_csv('data/controversial_posts_comments.csv')\n",
    "hotPost = pa.read_csv('data/hot_posts.csv')\n",
    "hotPostComments = pa.read_csv('data/hot_post_comments.csv')\n",
    "newPost = pa.read_csv('data/new_posts.csv')\n",
    "newPostComments = pa.read_csv('data/new_post_comments.csv')\n",
    "topPost = pa.read_csv('data/top_posts.csv')\n",
    "topPostComments = pa.read_csv('data/top_posts_comments.csv')"
   ]
  },
  {
   "cell_type": "code",
   "execution_count": 8,
   "id": "c469e0d8-eb6b-431c-88d6-a00e58c603f7",
   "metadata": {},
   "outputs": [],
   "source": [
    "def extract_text(df, post=True):\n",
    "    if post:\n",
    "        df['body']  = df.get('body','').fillna('')\n",
    "        df['title'] = df.get('title','').fillna('')\n",
    "        df['text']  = (df['title'].str.strip() + ' ' + df['body'].str.strip()).str.strip()\n",
    "    else:\n",
    "        df['body'] = df.get('body', df.get('comment','')).fillna('')\n",
    "        df['text'] = df['body'].str.strip()\n",
    "    return df[df['text']!='']"
   ]
  },
  {
   "cell_type": "code",
   "execution_count": 9,
   "id": "54ff147e-61bf-4962-8ea8-535c523d5bdc",
   "metadata": {},
   "outputs": [
    {
     "name": "stdout",
     "output_type": "stream",
     "text": [
      "Loaded 3792 posts, 113310 comments.\n",
      "Loaded 0        11\n",
      "1         0\n",
      "2         0\n",
      "3       303\n",
      "4         0\n",
      "       ... \n",
      "3787    820\n",
      "3788    821\n",
      "3789    825\n",
      "3790    824\n",
      "3791    817\n",
      "Name: score, Length: 3792, dtype: int64 posts.\n"
     ]
    }
   ],
   "source": [
    "posts = pa.concat([\n",
    "    extract_text(controversialPosts, post=True),\n",
    "    extract_text(hotPost,         post=True),\n",
    "    extract_text(newPost,         post=True),\n",
    "    extract_text(topPost,         post=True),\n",
    "], ignore_index=True)\n",
    "\n",
    "comments = pa.concat([\n",
    "    extract_text(controversialPostComments, post=False),\n",
    "    extract_text(hotPostComments,           post=False),\n",
    "    extract_text(newPostComments,           post=False),\n",
    "    extract_text(topPostComments,           post=False),\n",
    "], ignore_index=True)\n",
    "\n",
    "print(f\"Loaded {len(posts)} posts, {len(comments)} comments.\")\n",
    "print(f\"Loaded {posts[\"score\"]} posts.\")"
   ]
  },
  {
   "cell_type": "code",
   "execution_count": 10,
   "id": "d5fbf312-7035-4483-a929-2c340d70104e",
   "metadata": {},
   "outputs": [
    {
     "name": "stdout",
     "output_type": "stream",
     "text": [
      "Sentiment distribution:\n",
      " sentiment\n",
      "1    0.7564\n",
      "0    0.2436\n",
      "Name: proportion, dtype: float64\n"
     ]
    }
   ],
   "source": [
    "from textblob import TextBlob\n",
    "\n",
    "# ─────────────────────────────────────────────────────────────────────────────\n",
    "# 3) COMBINE POSTS+COMMENTS & DERIVE SENTIMENT VIA TEXTBLOB\n",
    "# ─────────────────────────────────────────────────────────────────────────────\n",
    "data = pa.concat([\n",
    "    posts   [['text']],\n",
    "    comments[['text']]\n",
    "], ignore_index=True)\n",
    "\n",
    "# compute polarity ∈ [−1,1], then binarize:\n",
    "data['polarity'] = data['text'].apply(lambda t: TextBlob(t).sentiment.polarity)\n",
    "data['sentiment'] = (data['polarity'] >= 0).astype(int)\n",
    "\n",
    "print(\"Sentiment distribution:\\n\", data['sentiment'].value_counts(normalize=True))\n"
   ]
  },
  {
   "cell_type": "code",
   "execution_count": 11,
   "id": "f7983643-744d-4e35-9cbf-724a95de290e",
   "metadata": {},
   "outputs": [],
   "source": [
    "# Code Body\n",
    "\n",
    "# ─────────────────────────────────────────────────────────────────────────────\n",
    "# 4) TF-IDF + TRAIN/TEST SPLIT\n",
    "# ─────────────────────────────────────────────────────────────────────────────\n",
    "X = data['text']\n",
    "y = data['sentiment']\n",
    "\n",
    "X_train, X_test, y_train, y_test = train_test_split(\n",
    "    X, y, test_size=0.2, stratify=y, random_state=42\n",
    ")\n",
    "\n",
    "tfidf = TfidfVectorizer(max_features=5000, stop_words='english')\n",
    "X_train_tfidf = tfidf.fit_transform(X_train)\n",
    "X_test_tfidf  = tfidf.transform(X_test)\n"
   ]
  },
  {
   "cell_type": "code",
   "execution_count": 12,
   "id": "40d1941c-6380-4342-97b3-455e8e99ea57",
   "metadata": {},
   "outputs": [
    {
     "name": "stdout",
     "output_type": "stream",
     "text": [
      "\n",
      ">>> Training LogisticRegression\n",
      "Acc=0.905  Prec=0.909  Rec=0.972  F1=0.939\n",
      "\n",
      ">>> Training NaiveBayes\n",
      "Acc=0.841  Prec=0.831  Rec=0.991  F1=0.904\n",
      "\n",
      ">>> Training LinearSVM\n",
      "Acc=0.919  Prec=0.931  Rec=0.965  F1=0.948\n",
      "\n",
      ">>> Training RandomForest\n",
      "Acc=0.927  Prec=0.951  Rec=0.953  F1=0.952\n",
      "\n",
      ">>> Training MLP\n",
      "Acc=0.936  Prec=0.948  Rec=0.968  F1=0.958\n",
      "\n",
      "Summary:\n",
      "                 Model  Accuracy  Precision    Recall        F1\n",
      "0  LogisticRegression  0.904914   0.909004  0.971551  0.939238\n",
      "1          NaiveBayes  0.840613   0.830990  0.990799  0.903885\n",
      "2           LinearSVM  0.919303   0.930569  0.965342  0.947637\n",
      "3        RandomForest  0.926775   0.950707  0.952585  0.951645\n",
      "4                 MLP  0.935571   0.947534  0.968447  0.957876\n",
      "\n",
      "Detailed report for MLP:\n",
      "\n",
      "              precision    recall  f1-score   support\n",
      "\n",
      "           0       0.89      0.83      0.86      5705\n",
      "           1       0.95      0.97      0.96     17716\n",
      "\n",
      "    accuracy                           0.94     23421\n",
      "   macro avg       0.92      0.90      0.91     23421\n",
      "weighted avg       0.93      0.94      0.93     23421\n",
      "\n"
     ]
    }
   ],
   "source": [
    "# Logistic Regression for multi-class topic classification\n",
    "\n",
    "models = {\n",
    "    'LogisticRegression': LogisticRegression(max_iter=1000, random_state=42),\n",
    "    'NaiveBayes':         MultinomialNB(),\n",
    "    'LinearSVM':          LinearSVC(max_iter=2000, random_state=42),\n",
    "    'RandomForest':       RandomForestClassifier(n_estimators=100, random_state=42),\n",
    "    'MLP':                MLPClassifier(hidden_layer_sizes=(100,), max_iter=300, random_state=42),\n",
    "}\n",
    "\n",
    "results = []\n",
    "for name, clf in models.items():\n",
    "    print(f\"\\n>>> Training {name}\")\n",
    "    clf.fit(X_train_tfidf, y_train)\n",
    "    y_pred = clf.predict(X_test_tfidf)\n",
    "    acc   = accuracy_score(y_test, y_pred)\n",
    "    prec  = precision_score(y_test, y_pred)\n",
    "    rec   = recall_score(y_test, y_pred)\n",
    "    f1    = f1_score(y_test, y_pred)\n",
    "    print(f\"Acc={acc:.3f}  Prec={prec:.3f}  Rec={rec:.3f}  F1={f1:.3f}\")\n",
    "    results.append((name, acc, prec, rec, f1))\n",
    "\n",
    "res_df = pa.DataFrame(results, columns=['Model','Accuracy','Precision','Recall','F1'])\n",
    "print(\"\\nSummary:\\n\", res_df)\n",
    "\n",
    "best = res_df.sort_values('F1', ascending=False).iloc[0]['Model']\n",
    "print(f\"\\nDetailed report for {best}:\\n\")\n",
    "print(classification_report(y_test, models[best].predict(X_test_tfidf)))"
   ]
  },
  {
   "cell_type": "code",
   "execution_count": 13,
   "id": "f21c6693-0fae-43d7-bc18-059467236e0e",
   "metadata": {},
   "outputs": [
    {
     "data": {
      "image/png": "[encoded data removed]",
      "text/plain": [
       "<Figure size 1000x600 with 1 Axes>"
      ]
     },
     "metadata": {},
     "output_type": "display_data"
    }
   ],
   "source": [
    "# Plotting the results Results\n",
    "\n",
    "# ─────────────────────────────────────────────────────────────────────────────\n",
    "# 6) PLOT COMPARISON ACROSS MODELS\n",
    "# ─────────────────────────────────────────────────────────────────────────────\n",
    "import matplotlib.pyplot as plt\n",
    "\n",
    "# set the ‘Model’ column as the index so pandas will label the x‐axis\n",
    "plot_df = res_df.set_index('Model')\n",
    "\n",
    "# select only the metric columns\n",
    "metrics = ['Accuracy','Precision','Recall','F1']\n",
    "\n",
    "# plot a grouped bar chart\n",
    "ax = plot_df[metrics].plot(\n",
    "    kind='bar', \n",
    "    figsize=(10,6), \n",
    "    ylim=(0.0,1.0),    # scores are between 0 and 1\n",
    "    width=0.8,\n",
    "    rot=45,\n",
    "    colormap='tab10'\n",
    ")\n",
    "\n",
    "ax.set_title('Model Performance Comparison', pad=15)\n",
    "ax.set_ylabel('Score')\n",
    "ax.set_xlabel('')\n",
    "ax.legend(title='Metric', bbox_to_anchor=(1.05, 1), loc='upper left')\n",
    "plt.tight_layout()\n",
    "plt.show()\n"
   ]
  },
  {
   "cell_type": "code",
   "execution_count": 14,
   "id": "d60e58cb-b06c-4a25-895c-eeead663f43f",
   "metadata": {},
   "outputs": [
    {
     "data": {
      "image/png": "[encoded data removed]",
      "text/plain": [
       "<Figure size 600x400 with 1 Axes>"
      ]
     },
     "metadata": {},
     "output_type": "display_data"
    }
   ],
   "source": [
    "# ─────────────────────────────────────────────────────────────────────────────\n",
    "# PLOT SENTIMENT DISTRIBUTION\n",
    "# ─────────────────────────────────────────────────────────────────────────────\n",
    "import matplotlib.pyplot as plt\n",
    "\n",
    "# Count how many of each sentiment\n",
    "sent_counts = data['sentiment'].value_counts().sort_index()\n",
    "\n",
    "# If you want percentages instead of raw counts, uncomment:\n",
    "# sent_counts = data['sentiment'].value_counts(normalize=True).sort_index()\n",
    "\n",
    "# Plot\n",
    "fig, ax = plt.subplots(figsize=(6,4))\n",
    "bars = ax.bar(\n",
    "    ['Negative','Positive'],      # x‐labels\n",
    "    sent_counts.values,           # heights\n",
    "    color=['#d62728','#2ca02c']   # red for negative, green for positive\n",
    ")\n",
    "\n",
    "# Annotate bar values on top\n",
    "for bar in bars:\n",
    "    h = bar.get_height()\n",
    "    ax.text(\n",
    "        bar.get_x() + bar.get_width()/2, \n",
    "        h + (sent_counts.max()*0.01), \n",
    "        f'{int(h)}', \n",
    "        ha='center',\n",
    "        va='bottom'\n",
    "    )\n",
    "\n",
    "ax.set_xlabel('Sentiment')\n",
    "ax.set_ylabel('Number of Samples')   # or 'Percentage of Samples' if using normalize=True\n",
    "ax.set_title('Overall Sentiment Distribution')\n",
    "plt.tight_layout()\n",
    "plt.show()\n"
   ]
  },
  {
   "cell_type": "code",
   "execution_count": 31,
   "id": "3c1e0eb2-0496-4d56-a8cb-43387e68698d",
   "metadata": {},
   "outputs": [
    {
     "name": "stdout",
     "output_type": "stream",
     "text": [
      "1.\n",
      "Text:  Further Ukrainian captures in Kherson Oblast: another T-62M tank and a BMP-1 IFV.\n",
      "Assigned Sentiment: Positive\n",
      "------------------\n",
      "2.\n",
      "Text:  They can't just keep sentencing everyone who doesn't speak ukrainian to death. There's plenty of people who live there and I don't think anyone is beng compensated for their service that doesn't live there. This is fucked.\n",
      "Assigned Sentiment: Negative\n",
      "------------------\n",
      "3.\n",
      "Text:  Payback time.   \n",
      "How is Ukraine with their electricity grid now? Hope all OK.\n",
      "Assigned Sentiment: Positive\n",
      "------------------\n",
      "4.\n",
      "Text:  Euh, thanks for sharing ?\n",
      "Assigned Sentiment: Positive\n",
      "------------------\n",
      "5.\n",
      "Text:  Dear Christ. Vile orc cunts. Let’s speed up their journey back to the fucking Stone Age.\n",
      "Assigned Sentiment: Negative\n",
      "------------------\n",
      "6.\n",
      "Text:  LMAO, you can't make this sh** up!\n",
      "Assigned Sentiment: Positive\n",
      "------------------\n",
      "7.\n",
      "Text:  James Vasquez is heading back to Ukraine to rejoin his brothers in the Foreign Legion, this time, he said, he's 'there til the end'.\n",
      "Assigned Sentiment: Negative\n",
      "------------------\n",
      "8.\n",
      "Text:  Hi u/Sorryman54! Thank you for contributing to r/RussiaUkraineWar2022.\n",
      "\n",
      "Due to the nature of this subreddit, the following message appears as a reminder on every post: **Please ensure your submission follows the rules**, which can be found in the sidebar or in the about section for mobile. Posts and comments from accounts with less than an undisclosed amount of comment Karma are automatically removed to combat troll/spam behaviour, we wont tell you the min value required for saftey reasons. We have links to verified charity's in Ukraine in the menu section and about section of our SubReddit. We are the only Sub to do this. Only Mods have access to the Verified Information flair. **FOLLOW US ON OUR OTHER CHANNELS. Telegram us https://T.me/UkraineWarPosts Twitter - https://twitter.com/RusskieUkraine?t=be2WhqqFKaIsBt6vX5iprQ&s=09\n",
      "\n",
      "\n",
      "*I am a bot, and this action was performed automatically. Please [contact the moderators of this subreddit](/message/compose/?to=/r/RussiaUkraineWar2022) if you have any questions or concerns.*\n",
      "Assigned Sentiment: Negative\n",
      "------------------\n",
      "9.\n",
      "Text:  Sleep tight and don't let the moscovites bite\n",
      "Assigned Sentiment: Negative\n",
      "------------------\n",
      "10.\n",
      "Text:  Oh shit it had an oil train on it!!\n",
      "Assigned Sentiment: Negative\n",
      "------------------\n"
     ]
    }
   ],
   "source": [
    "# reproducible sampling\n",
    "np.random.seed(42)\n",
    "sample_num = 10\n",
    "\n",
    "# pick 10 random indices from your data\n",
    "indices = np.random.choice(data.index, sample_num, replace=False)\n",
    "\n",
    "for i, idx in enumerate(indices, 1):\n",
    "    txt = data.loc[idx, 'text']\n",
    "    lbl = 'Positive' if data.loc[idx, 'sentiment'] == 1 else 'Negative'\n",
    "    print(f\"{i}.\")\n",
    "    print(\"Text: \", txt)\n",
    "    print(\"Assigned Sentiment:\", lbl)\n",
    "    print(\"------------------\")"
   ]
  },
  {
   "cell_type": "code",
   "execution_count": 33,
   "id": "0211408a-c850-43a5-b782-0ef9faea0ad8",
   "metadata": {},
   "outputs": [],
   "source": [
    "cv = CountVectorizer(max_features=5000, stop_words='english')\n",
    "dtm = cv.fit_transform(posts['text'])\n",
    "lda = LatentDirichletAllocation(n_components=10, random_state=42)\n",
    "topics = lda.fit_transform(dtm)  # shape (n_posts,10)\n",
    "posts['dominant_topic'] = topics.argmax(axis=1)\n"
   ]
  },
  {
   "cell_type": "code",
   "execution_count": 48,
   "id": "8713e010-d951-4eb5-b67d-7ec225c07dbf",
   "metadata": {},
   "outputs": [
    {
     "name": "stdout",
     "output_type": "stream",
     "text": [
      "              precision    recall  f1-score   support\n",
      "\n",
      "           0       0.65      0.95      0.77       180\n",
      "           1       0.64      0.48      0.55        60\n",
      "           2       0.83      0.53      0.65        64\n",
      "           3       0.65      0.75      0.70       109\n",
      "           4       0.62      0.38      0.47        48\n",
      "           5       0.62      0.63      0.63        76\n",
      "           6       0.95      0.41      0.57        44\n",
      "           7       0.80      0.36      0.50        44\n",
      "           8       0.76      0.42      0.54        60\n",
      "           9       0.44      0.64      0.52        74\n",
      "\n",
      "    accuracy                           0.64       759\n",
      "   macro avg       0.70      0.55      0.59       759\n",
      "weighted avg       0.67      0.64      0.63       759\n",
      "\n"
     ]
    }
   ],
   "source": [
    "X = posts['text']\n",
    "y = posts['dominant_topic']\n",
    "X_train, X_test, y_train, y_test = train_test_split(X, y, test_size=0.2, stratify=y, random_state=42)\n",
    "vec = TfidfVectorizer(max_features=5000, stop_words='english')\n",
    "Xtr = vec.fit_transform(X_train); Xte = vec.transform(X_test)\n",
    "topic_clf = LogisticRegression(\n",
    "    solver='saga',\n",
    "    max_iter=1000,\n",
    "    random_state=42\n",
    ")\n",
    "topic_clf.fit(Xtr, y_train)\n",
    "print(classification_report(y_test, topic_clf.predict(Xte)))\n"
   ]
  },
  {
   "cell_type": "code",
   "execution_count": 46,
   "id": "3fcc1769-5e7d-4029-9a67-8d673821b197",
   "metadata": {},
   "outputs": [
    {
     "name": "stdout",
     "output_type": "stream",
     "text": [
      "Topic 0: tank, soldier, ukraine, destroyed, artillery, soldiers, recently, forces, ukrainian, russian\n",
      "Topic 1: lieutenant, ukrainian, russians, man, border, equipment, russia, military, ukraine, russian\n",
      "Topic 2: tank, recently, new, army, training, russia, soldier, ukraine, russian, ukrainian\n",
      "Topic 3: captured, kharkiv, oblast, forces, ukraine, army, region, kherson, russian, ukrainian\n",
      "Topic 4: www, nuclear, com, war, abandoned, ukraine, russian, russia, https, putin\n",
      "Topic 5: mariupol, defense, putin, ukrainian, like, russia, russians, war, ukraine, russian\n",
      "Topic 6: putin, european, ukrainian, country, support, people, russia, russian, war, ukraine\n",
      "Topic 7: 2022, aircraft, russia, war, fuck, president, today, ukraine, russian, ukrainian\n",
      "Topic 8: explosion, crimea, video, state, ukrainian, ukraine, russian, crimean, russia, bridge\n",
      "Topic 9: nato, don, world, just, people, russian, putin, war, russia, ukraine\n"
     ]
    }
   ],
   "source": [
    "for i, comp in enumerate(lda.components_):\n",
    "    terms = np.array(cv.get_feature_names_out())\n",
    "    top_terms = terms[np.argsort(comp)[-10:]]\n",
    "    print(f\"Topic {i}: {', '.join(top_terms)}\")\n"
   ]
  },
  {
   "cell_type": "code",
   "execution_count": 15,
   "id": "4c96f3d5-a2a2-4070-8ba0-f506be25e06f",
   "metadata": {},
   "outputs": [],
   "source": [
    "# Final conclusion"
   ]
  }
 ],
 "metadata": {
  "kernelspec": {
   "display_name": "Python [conda env:base] *",
   "language": "python",
   "name": "conda-base-py"
  },
  "language_info": {
   "codemirror_mode": {
    "name": "ipython",
    "version": 3
   },
   "file_extension": ".py",
   "mimetype": "text/x-python",
   "name": "python",
   "nbconvert_exporter": "python",
   "pygments_lexer": "ipython3",
   "version": "3.12.7"
  }
 },
 "nbformat": 4,
 "nbformat_minor": 5
}
